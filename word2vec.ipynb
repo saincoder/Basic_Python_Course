{
  "nbformat": 4,
  "nbformat_minor": 0,
  "metadata": {
    "colab": {
      "provenance": [],
      "authorship_tag": "ABX9TyMbMqV80qxgfHo64FabqBCG",
      "include_colab_link": true
    },
    "kernelspec": {
      "name": "python3",
      "display_name": "Python 3"
    },
    "language_info": {
      "name": "python"
    }
  },
  "cells": [
    {
      "cell_type": "markdown",
      "metadata": {
        "id": "view-in-github",
        "colab_type": "text"
      },
      "source": [
        "<a href=\"https://colab.research.google.com/github/saincoder404/Basic_Python_Course/blob/master/word2vec.ipynb\" target=\"_parent\"><img src=\"https://colab.research.google.com/assets/colab-badge.svg\" alt=\"Open In Colab\"/></a>"
      ]
    },
    {
      "cell_type": "code",
      "source": [
        "!pip install kaggle"
      ],
      "metadata": {
        "id": "x93tfZwPb7ka",
        "outputId": "0c8704ad-bcf6-4c4b-c978-86f5d698572b",
        "colab": {
          "base_uri": "https://localhost:8080/"
        }
      },
      "execution_count": 1,
      "outputs": [
        {
          "output_type": "stream",
          "name": "stdout",
          "text": [
            "Requirement already satisfied: kaggle in /usr/local/lib/python3.10/dist-packages (1.6.14)\n",
            "Requirement already satisfied: six>=1.10 in /usr/local/lib/python3.10/dist-packages (from kaggle) (1.16.0)\n",
            "Requirement already satisfied: certifi>=2023.7.22 in /usr/local/lib/python3.10/dist-packages (from kaggle) (2024.7.4)\n",
            "Requirement already satisfied: python-dateutil in /usr/local/lib/python3.10/dist-packages (from kaggle) (2.8.2)\n",
            "Requirement already satisfied: requests in /usr/local/lib/python3.10/dist-packages (from kaggle) (2.31.0)\n",
            "Requirement already satisfied: tqdm in /usr/local/lib/python3.10/dist-packages (from kaggle) (4.66.4)\n",
            "Requirement already satisfied: python-slugify in /usr/local/lib/python3.10/dist-packages (from kaggle) (8.0.4)\n",
            "Requirement already satisfied: urllib3 in /usr/local/lib/python3.10/dist-packages (from kaggle) (2.0.7)\n",
            "Requirement already satisfied: bleach in /usr/local/lib/python3.10/dist-packages (from kaggle) (6.1.0)\n",
            "Requirement already satisfied: webencodings in /usr/local/lib/python3.10/dist-packages (from bleach->kaggle) (0.5.1)\n",
            "Requirement already satisfied: text-unidecode>=1.3 in /usr/local/lib/python3.10/dist-packages (from python-slugify->kaggle) (1.3)\n",
            "Requirement already satisfied: charset-normalizer<4,>=2 in /usr/local/lib/python3.10/dist-packages (from requests->kaggle) (3.3.2)\n",
            "Requirement already satisfied: idna<4,>=2.5 in /usr/local/lib/python3.10/dist-packages (from requests->kaggle) (3.7)\n"
          ]
        }
      ]
    },
    {
      "cell_type": "code",
      "source": [
        "import os\n",
        "import json\n",
        "from zipfile import ZipFile\n",
        "import gensim\n",
        "from gensim.models import word2vec, KeyedVectors"
      ],
      "metadata": {
        "id": "3rdK9iiYcANK"
      },
      "execution_count": 2,
      "outputs": []
    },
    {
      "cell_type": "code",
      "source": [
        "kaggle_dictionary = json.load(open('kaggle.json'))"
      ],
      "metadata": {
        "id": "0P7aQJcAb__q"
      },
      "execution_count": 3,
      "outputs": []
    },
    {
      "cell_type": "code",
      "source": [
        "# setup kaggle credential as environment variable\n",
        "os.environ['KAGGLE_USERNAME'] = kaggle_dictionary['username']\n",
        "os.environ['KAGGLE_KEY'] = kaggle_dictionary['key']"
      ],
      "metadata": {
        "id": "NEvFvkxFb_1y"
      },
      "execution_count": 4,
      "outputs": []
    },
    {
      "cell_type": "code",
      "source": [
        "!kaggle datasets download -d sugataghosh/google-word2vec"
      ],
      "metadata": {
        "id": "-_VDUSg9b_rA",
        "colab": {
          "base_uri": "https://localhost:8080/"
        },
        "outputId": "0a7c4447-9cf1-472e-faef-6ae97d1f9e79"
      },
      "execution_count": 5,
      "outputs": [
        {
          "output_type": "stream",
          "name": "stdout",
          "text": [
            "Warning: Looks like you're using an outdated API Version, please consider updating (server 1.6.17 / client 1.6.14)\n",
            "Dataset URL: https://www.kaggle.com/datasets/sugataghosh/google-word2vec\n",
            "License(s): other\n",
            "Downloading google-word2vec.zip to /content\n",
            "100% 1.64G/1.64G [01:34<00:00, 22.9MB/s]\n",
            "100% 1.64G/1.64G [01:34<00:00, 18.6MB/s]\n"
          ]
        }
      ]
    },
    {
      "cell_type": "code",
      "execution_count": 6,
      "metadata": {
        "id": "LSfCq6lFYX8a"
      },
      "outputs": [],
      "source": [
        "# unzip the dataset\n",
        "with ZipFile('/content/google-word2vec.zip', 'r') as zip_ref:\n",
        "  zip_ref.extractall()"
      ]
    },
    {
      "cell_type": "code",
      "source": [
        "model = KeyedVectors.load_word2vec_format('/content/GoogleNews-vectors-negative300.bin',binary=True,limit=500000)"
      ],
      "metadata": {
        "id": "H_YYz4vZCCuV"
      },
      "execution_count": 7,
      "outputs": []
    },
    {
      "cell_type": "code",
      "source": [
        "model['boy'].shape"
      ],
      "metadata": {
        "colab": {
          "base_uri": "https://localhost:8080/"
        },
        "id": "t2WfnxMJjBfd",
        "outputId": "79c80233-401f-4968-8855-963a2cf930d2"
      },
      "execution_count": 8,
      "outputs": [
        {
          "output_type": "execute_result",
          "data": {
            "text/plain": [
              "(300,)"
            ]
          },
          "metadata": {},
          "execution_count": 8
        }
      ]
    },
    {
      "cell_type": "code",
      "source": [
        "model['boy']"
      ],
      "metadata": {
        "colab": {
          "base_uri": "https://localhost:8080/"
        },
        "id": "D14G0F7MjLBu",
        "outputId": "ec1de11d-81f6-42b4-de8c-c27f4bd09ca5"
      },
      "execution_count": 9,
      "outputs": [
        {
          "output_type": "execute_result",
          "data": {
            "text/plain": [
              "array([ 2.35351562e-01,  1.65039062e-01,  9.32617188e-02, -1.28906250e-01,\n",
              "        1.59912109e-02,  3.61328125e-02, -1.16699219e-01, -7.32421875e-02,\n",
              "        1.38671875e-01,  1.15356445e-02,  1.87500000e-01, -2.91015625e-01,\n",
              "        1.70898438e-02, -1.84570312e-01, -2.87109375e-01,  2.54821777e-03,\n",
              "       -2.19726562e-01,  1.77734375e-01, -1.20605469e-01,  5.39550781e-02,\n",
              "        3.78417969e-02,  2.49023438e-01,  1.76757812e-01,  2.69775391e-02,\n",
              "        1.21093750e-01, -3.51562500e-01, -5.83496094e-02,  1.22070312e-01,\n",
              "        5.97656250e-01, -1.60156250e-01,  1.08398438e-01, -2.40478516e-02,\n",
              "       -1.16699219e-01,  3.58886719e-02, -2.37304688e-01,  1.15234375e-01,\n",
              "        5.27343750e-01, -2.18750000e-01, -4.54101562e-02,  3.30078125e-01,\n",
              "        3.75976562e-02, -5.51757812e-02,  3.26171875e-01,  6.74438477e-03,\n",
              "        3.71093750e-01,  3.68652344e-02,  6.68945312e-02,  5.17578125e-02,\n",
              "       -4.76074219e-02, -7.91015625e-02,  4.46777344e-02,  1.67968750e-01,\n",
              "        5.51757812e-02, -2.91015625e-01,  2.59765625e-01, -1.00097656e-01,\n",
              "       -1.09863281e-01, -9.15527344e-03,  2.63671875e-02, -3.44238281e-02,\n",
              "        9.37500000e-02,  3.53515625e-01,  8.39843750e-02, -7.75146484e-03,\n",
              "        8.64257812e-02, -5.24902344e-02, -5.59082031e-02, -8.59375000e-02,\n",
              "        5.37109375e-02, -1.47094727e-02,  3.63769531e-02,  4.68750000e-02,\n",
              "       -3.39843750e-01,  1.28906250e-01, -1.22558594e-01,  4.57031250e-01,\n",
              "        1.27929688e-01, -2.89062500e-01,  1.56250000e-01,  3.73535156e-02,\n",
              "        2.75390625e-01, -1.28784180e-02, -1.50390625e-01, -1.64062500e-01,\n",
              "       -3.39843750e-01,  8.00781250e-02, -9.21630859e-03,  2.78320312e-02,\n",
              "        9.32617188e-02,  2.25830078e-02, -1.62353516e-02, -8.25195312e-02,\n",
              "       -1.90429688e-02, -3.49121094e-02,  9.42382812e-02,  3.66210938e-02,\n",
              "        6.39648438e-02,  2.00195312e-01, -4.05273438e-02, -1.08886719e-01,\n",
              "       -3.93676758e-03, -2.55859375e-01,  6.78710938e-02, -1.89453125e-01,\n",
              "        1.72851562e-01, -1.73828125e-01,  2.07031250e-01, -1.59179688e-01,\n",
              "        2.85339355e-03, -1.80664062e-01, -6.93359375e-02,  2.05078125e-01,\n",
              "        5.93261719e-02, -2.17773438e-01, -1.36718750e-01, -4.91333008e-03,\n",
              "       -1.38671875e-01, -7.47070312e-02, -3.54003906e-02,  1.13769531e-01,\n",
              "        3.07617188e-02, -1.05957031e-01, -3.30078125e-01, -2.72216797e-02,\n",
              "       -1.94091797e-02,  9.52148438e-02,  8.69140625e-02, -2.16064453e-02,\n",
              "       -6.98242188e-02, -1.73828125e-01, -1.60156250e-01, -2.44140625e-01,\n",
              "        9.82666016e-03,  2.24609375e-02, -2.13867188e-01,  1.91406250e-01,\n",
              "        2.01171875e-01,  2.72216797e-02,  2.81982422e-02,  2.42187500e-01,\n",
              "        3.55468750e-01, -5.32226562e-02,  1.78710938e-01,  6.78710938e-02,\n",
              "       -6.73828125e-02,  3.49609375e-01, -1.92382812e-01, -1.00097656e-02,\n",
              "       -2.05078125e-01, -1.59179688e-01,  3.76953125e-01, -2.15820312e-01,\n",
              "       -2.36328125e-01,  6.49414062e-02, -1.39770508e-02,  4.22363281e-02,\n",
              "        2.51464844e-02, -1.00585938e-01,  1.37695312e-01, -2.43164062e-01,\n",
              "        1.20605469e-01,  2.03857422e-02,  3.12500000e-01,  1.09863281e-01,\n",
              "       -1.04980469e-01, -9.13085938e-02,  2.21679688e-01, -1.04003906e-01,\n",
              "        1.25976562e-01,  5.10253906e-02,  6.39648438e-02, -1.15722656e-01,\n",
              "       -3.19824219e-02, -8.34960938e-02, -1.97265625e-01, -2.33154297e-02,\n",
              "        1.94335938e-01,  2.24609375e-01, -2.30468750e-01,  4.17480469e-02,\n",
              "        6.49414062e-02, -1.70898438e-01,  7.86132812e-02, -3.58886719e-02,\n",
              "       -1.66015625e-01,  2.25585938e-01,  1.23535156e-01,  1.08398438e-01,\n",
              "        1.15722656e-01,  7.37304688e-02, -1.56250000e-02, -5.85937500e-02,\n",
              "       -8.93554688e-02,  1.30859375e-01,  1.90429688e-01, -3.58886719e-02,\n",
              "       -1.36718750e-02, -1.88476562e-01, -1.48437500e-01, -2.51953125e-01,\n",
              "       -1.22558594e-01, -2.75390625e-01, -1.54296875e-01, -2.83203125e-01,\n",
              "        1.10839844e-01, -2.46093750e-01,  1.89453125e-01, -2.50244141e-02,\n",
              "        8.59375000e-02, -1.17675781e-01, -2.46582031e-02, -1.32812500e-01,\n",
              "        1.00097656e-01, -2.45117188e-01, -2.02148438e-01, -7.56835938e-02,\n",
              "        6.03027344e-02,  1.72851562e-01, -6.59179688e-02,  6.78710938e-02,\n",
              "        6.98242188e-02, -4.10156250e-02,  2.14843750e-01,  7.17773438e-02,\n",
              "       -4.57763672e-03, -4.04357910e-04,  8.59375000e-02, -2.55859375e-01,\n",
              "       -4.32128906e-02, -1.31835938e-01,  2.05078125e-02, -2.46093750e-01,\n",
              "       -1.28906250e-01,  1.23535156e-01, -1.48437500e-01,  5.15136719e-02,\n",
              "       -1.55273438e-01, -1.70898438e-01,  1.92382812e-01,  2.16796875e-01,\n",
              "        5.81054688e-02, -1.28906250e-01, -1.43554688e-01, -7.78198242e-03,\n",
              "       -1.15234375e-01,  4.08203125e-01, -3.37890625e-01,  8.64257812e-02,\n",
              "        2.08007812e-01,  2.35595703e-02,  1.36718750e-01, -4.71191406e-02,\n",
              "        9.91210938e-02,  1.18164062e-01,  1.19140625e-01,  1.24511719e-01,\n",
              "        4.66308594e-02,  5.41992188e-02, -2.11914062e-01, -8.20312500e-02,\n",
              "       -5.17578125e-02,  2.03857422e-02, -1.59179688e-01, -1.76757812e-01,\n",
              "        8.54492188e-02,  1.38671875e-01, -1.01562500e-01,  2.61230469e-02,\n",
              "       -1.88476562e-01, -1.57470703e-02,  1.21093750e-01, -9.66796875e-02,\n",
              "        2.13623047e-02, -6.68945312e-02, -2.69775391e-02,  3.51562500e-02,\n",
              "        1.68945312e-01,  1.55639648e-02, -1.25976562e-01, -1.44531250e-01,\n",
              "        1.78710938e-01, -7.42187500e-02,  2.72216797e-02,  4.98046875e-01,\n",
              "       -6.03027344e-02, -1.35742188e-01, -1.62109375e-01,  9.57031250e-02,\n",
              "       -1.84326172e-02,  3.90625000e-01,  1.90429688e-02, -1.03149414e-02,\n",
              "       -1.15234375e-01, -2.91015625e-01, -5.95703125e-02, -5.37109375e-02,\n",
              "       -7.42187500e-02, -2.65625000e-01, -1.03027344e-01,  1.35742188e-01],\n",
              "      dtype=float32)"
            ]
          },
          "metadata": {},
          "execution_count": 9
        }
      ]
    },
    {
      "cell_type": "code",
      "source": [
        "model.most_similar('facebook')"
      ],
      "metadata": {
        "colab": {
          "base_uri": "https://localhost:8080/"
        },
        "id": "2xOITIWcj6wk",
        "outputId": "f77feec2-a2f4-4e75-f41d-a74c46a3fb63"
      },
      "execution_count": 10,
      "outputs": [
        {
          "output_type": "execute_result",
          "data": {
            "text/plain": [
              "[('Facebook', 0.7563533186912537),\n",
              " ('FaceBook', 0.7076998949050903),\n",
              " ('twitter', 0.6988552212715149),\n",
              " ('myspace', 0.6941817998886108),\n",
              " ('Twitter', 0.664244532585144),\n",
              " ('Facebook.com', 0.6529868245124817),\n",
              " ('FacebookFacebook', 0.6162722110748291),\n",
              " ('facebook.com', 0.6135972142219543),\n",
              " ('Twitter.com', 0.6102108359336853),\n",
              " ('TwitterTwitter', 0.6085205674171448)]"
            ]
          },
          "metadata": {},
          "execution_count": 10
        }
      ]
    },
    {
      "cell_type": "code",
      "source": [
        "model.similarity('man', 'woman')"
      ],
      "metadata": {
        "colab": {
          "base_uri": "https://localhost:8080/"
        },
        "id": "RieA3ZBglgjK",
        "outputId": "5cd03161-499a-47ea-f42a-fdbf002f36f7"
      },
      "execution_count": 11,
      "outputs": [
        {
          "output_type": "execute_result",
          "data": {
            "text/plain": [
              "0.76640123"
            ]
          },
          "metadata": {},
          "execution_count": 11
        }
      ]
    },
    {
      "cell_type": "code",
      "source": [
        "model.similarity('man', 'PHP')"
      ],
      "metadata": {
        "colab": {
          "base_uri": "https://localhost:8080/"
        },
        "id": "RUYMgptpomyQ",
        "outputId": "8d887e54-ad83-4920-f616-ea2f35aac864"
      },
      "execution_count": 12,
      "outputs": [
        {
          "output_type": "execute_result",
          "data": {
            "text/plain": [
              "-0.032995153"
            ]
          },
          "metadata": {},
          "execution_count": 12
        }
      ]
    },
    {
      "cell_type": "code",
      "source": [
        "model.doesnt_match(['man', 'java', 'PHP'])"
      ],
      "metadata": {
        "colab": {
          "base_uri": "https://localhost:8080/",
          "height": 35
        },
        "id": "kH0_dJJropnY",
        "outputId": "1f4aee6b-e94d-41e7-f56b-31715dae00df"
      },
      "execution_count": 13,
      "outputs": [
        {
          "output_type": "execute_result",
          "data": {
            "text/plain": [
              "'man'"
            ],
            "application/vnd.google.colaboratory.intrinsic+json": {
              "type": "string"
            }
          },
          "metadata": {},
          "execution_count": 13
        }
      ]
    },
    {
      "cell_type": "code",
      "source": [
        "vec = model['king'] - model['man'] - model['woman']\n",
        "model.most_similar([vec])"
      ],
      "metadata": {
        "colab": {
          "base_uri": "https://localhost:8080/"
        },
        "id": "z4Gm6hj3o2q9",
        "outputId": "df45fdf8-04a6-4c55-900d-1277ecb3b0ac"
      },
      "execution_count": 14,
      "outputs": [
        {
          "output_type": "execute_result",
          "data": {
            "text/plain": [
              "[('king', 0.4048772156238556),\n",
              " ('kings', 0.30023127794265747),\n",
              " ('kings_queens', 0.23786203563213348),\n",
              " ('Rulers', 0.23711617290973663),\n",
              " ('kingdom', 0.23471006751060486),\n",
              " ('Sheikh_Khalifa_bin', 0.22946564853191376),\n",
              " ('Hashemite', 0.22499917447566986),\n",
              " ('Prime_Minister_Samir_Rifai', 0.22440990805625916),\n",
              " ('Gargantuan', 0.22176045179367065),\n",
              " ('undisputed_king', 0.22135427594184875)]"
            ]
          },
          "metadata": {},
          "execution_count": 14
        }
      ]
    },
    {
      "cell_type": "code",
      "source": [
        "vec = model['PKR'] - model['Pakistan'] + model['USA']\n",
        "model.most_similar([vec])"
      ],
      "metadata": {
        "colab": {
          "base_uri": "https://localhost:8080/"
        },
        "id": "Na_Yp-w4jvPv",
        "outputId": "956023c6-400c-4973-a5b1-f1d7d3858c29"
      },
      "execution_count": 15,
      "outputs": [
        {
          "output_type": "execute_result",
          "data": {
            "text/plain": [
              "[('PKR', 0.6886049509048462),\n",
              " ('Parti_Keadilan_Rakyat_PKR', 0.4982491135597229),\n",
              " ('BN', 0.48974940180778503),\n",
              " ('Parti_Keadilan_Rakyat', 0.4817858636379242),\n",
              " ('PAS', 0.4801931083202362),\n",
              " ('Keadilan', 0.4759548604488373),\n",
              " ('DAP', 0.46733203530311584),\n",
              " ('Umno', 0.4493390619754791),\n",
              " ('Barisan', 0.4461088180541992),\n",
              " ('Pakatan', 0.444678395986557)]"
            ]
          },
          "metadata": {},
          "execution_count": 15
        }
      ]
    },
    {
      "cell_type": "code",
      "source": [],
      "metadata": {
        "id": "EHuqaYKtkwxu"
      },
      "execution_count": 15,
      "outputs": []
    }
  ]
}